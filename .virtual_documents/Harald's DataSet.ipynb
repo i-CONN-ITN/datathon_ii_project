


import jax
import jax.numpy as jnp
import matplotlib.pyplot as plt
import networkx as nx
import numpy as np
import pandas as pd
import seaborn as sns
import xarray as xr
from frites.conn import define_windows
from joblib import Parallel, delayed
from tqdm import tqdm
from frites.stats import confidence_interval
import plot





contracts = pd.read_excel("Guatemala.xlsx")


contracts.CT_aDate = [
    contracts.CT_aDate[i].strftime("%Y-%m-%d") for i in range(len(contracts))
]


dates = np.unique(contracts.CT_aDate)
dates_int = np.stack([dates[i].replace("-", "") for i in range(len(dates))]).astype(int)
dates_int = dates_int - dates_int.min()
days = np.arange(len(dates), dtype=int)
dates_to_days = dict(zip(dates, days))
contracts = contracts.replace({"CT_aDate": dates_to_days})


contracts["Contract_value"] = contracts["Contract_value"].astype(int)


contracts["ID_local_government"] = contracts["ID_local_government"] - 1
contracts["ID_company"] = contracts["ID_company"] - 1


contracts


source_indexes = np.unique(contracts.ID_local_government)
target_indexes = np.unique(contracts.ID_company)

days = np.unique(contracts.CT_aDate)


n_times = len(dates_int)
n_sources, n_targets = len(source_indexes), len(target_indexes)
n_nodes = n_sources + n_targets





W = np.zeros((n_sources, n_targets), dtype=int)

edge_array = np.zeros((n_sources * n_targets, n_times), dtype=int)


for i in tqdm(range(n_times)):
    temp = np.zeros((n_sources, n_targets), dtype=int)

    filtered = contracts.loc[contracts.CT_aDate == i]

    weights = filtered.Contract_value.values

    s, t = (
        filtered.ID_local_government.values,
        filtered.ID_company.values - n_sources,
    )
    temp[s, t] = weights

    W += temp

    edge_array[n_targets * s + t, i] = temp[s, t]


roi_st = []
for i in range(n_sources):
    for j in range(n_targets):
        roi_st += [f"{i}-{j}"]
roi_st = np.stack(roi_st)


plt.figure(figsize=(10, 8))
plt.imshow(W, aspect="auto", vmax=1e6, cmap="jet", origin="lower")

plt.colorbar()





x = edge_array > 0

x = xr.DataArray(
    x, dims=("edges", "dates"), coords={"edges": roi_st, "dates": dates_int}
)


win, twin = define_windows(days, slwin_len=4)

x_cg = []
for wi, wf in tqdm(win):
    x_cg += [x[:, wi:wf].sum(axis=1) > 0]
x_cg = np.stack(x_cg).T

x_cg = xr.DataArray(
    x_cg, dims=("edges", "dates"), coords={"edges": roi_st, "dates": twin}
)





non_zeros = np.where(x_cg.sum(axis=1))[0]


x_cg = x_cg[non_zeros]


plt.figure(figsize=(20, 8))
ax = plt.subplot(2, 1, 1)
for pos, i in enumerate(range(4000)):
    plt.scatter(twin[x_cg[i]], int(x_cg[i].sum()) * [pos + 1], c="k", s=10)
[ax.spines[key].set_visible(False) for key in ["top", "right"]]
plt.xlim(-1, 2300)
plt.ylabel("Edge ID")
plt.xticks([])
ax = plt.subplot(2, 1, 2)
x_cg.sum("edges").plot()
[ax.spines[key].set_visible(False) for key in ["top", "right"]]
plt.xlim(-1, 2300)
plt.ylabel("Number of active edges")
plt.xlabel("Time");


win, twin = define_windows(days, slwin_len=4)

x_cg_w = []
for wi, wf in tqdm(win):
    x_cg_w += [edge_array[:, wi:wf].mean(axis=1)]
x_cg_w = np.stack(x_cg_w).T

x_cg_w = xr.DataArray(
    x_cg_w, dims=("edges", "dates"), coords={"edges": roi_st, "dates": twin}
)


plt.figure(figsize=(20, 8))
ax = plt.subplot(2, 1, 1)
plt.imshow(x_cg_w, aspect="auto", vmax=1e2, cmap="hot_r", origin="lower")
[ax.spines[key].set_visible(False) for key in ["top", "right"]]
plt.xticks([])
plt.ylabel("Edge ID")
ax = plt.subplot(2, 1, 2)
x_cg_w.sum("edges").plot(x="dates")
[ax.spines[key].set_visible(False) for key in ["top", "right"]]
plt.xlim(-0.3, 2300)
plt.ylabel("Number of active edges")
plt.xlabel("Time");





idx = np.argsort(x_cg.isel(edges=non_zeros).mean("dates"))[::-1][:25].data
plt.plot(np.sort(x_cg.isel(edges=non_zeros).mean("dates"))[::-1][:25])
plt.xticks(range(25), x_cg.isel(edges=non_zeros).edges.data[idx], rotation=90);


idx = np.argsort(x_cg.isel(edges=non_zeros).mean("dates"))[::-1][:25].data
w = np.sort(x_cg.isel(edges=non_zeros).mean("dates"))[::-1][:25]
rois = x_cg.isel(edges=non_zeros).edges.data[idx]


roi_st = np.stack([roi.split("-") for roi in rois], axis=0).astype(int)
roi_s, roi_t = roi_st[:, 0], roi_st[:, 1]


n_gov = len(np.unique(roi_s))
n_com = len(np.unique(roi_t))
n_nodes = n_gov + n_com


A = np.zeros((n_nodes, n_nodes))


s2idx = dict(zip(np.unique(roi_s), np.arange(n_gov)))
t2idx = dict(zip(np.unique(roi_t), np.arange(n_gov, n_nodes)))


for pos, (s, t) in enumerate(roi_st):
    A[s2idx[s], t2idx[t]] = w[pos]


from frites.plot import plot_conn_circle


categories = ["governement"] * n_gov + ["company"] * n_com


gov_names = np.stack(
    [
        contracts.loc[
            contracts.ID_local_government.isin([s])
        ].Name_local_government.values[0]
        for s in np.unique(roi_s)
    ]
)


import networkx as nx


G = nx.from_numpy_array(A, create_using=nx.DiGraph)


# Define node names and metadata
node_names = [f"Node{i + 1}" for i in range(n_nodes)]
custom_node_names = dict(zip(np.arange(n_nodes, dtype=int), node_names))

G = nx.relabel_nodes(G, custom_node_names, copy=False)

node_metadata = {
    "Node1": {"label": "MUNICIPALIDAD DE BARBERENA, SANTA ROSA", "color": "blue"},
    "Node2": {"label": "MUNICIPALIDAD DE CHIQUIMULA, CHIQUIMULA", "color": "blue"},
    "Node3": {
        "label": "FIDEICOMISO DE APOYO A LA PLANIFICACION URBANA",
        "color": "blue",
    },
    "Node4": {"label": "MUNICIPALIDAD DE IXCAN, QUICHE", "color": "blue"},
    "Node5": {"label": "MUNICIPALIDAD DE JOYABAJ, QUICHE", "color": "blue"},
    "Node6": {"label": "MUNICIPALIDAD DE LA LIBERTAD, PETEN", "color": "blue"},
    "Node7": {"label": "MUNICIPALIDAD DE MORAZAN, EL PROGRESO", "color": "blue"},
    "Node8": {
        "label": "MUNICIPALIDAD DE PALESTINA DE LOS ALTOS, QUETZALTENANGO",
        "color": "blue",
    },
    "Node9": {"label": "MUNICIPALIDAD DE RETALHULEU, RETALHULEU", "color": "blue"},
    "Node10": {"label": "MUNICIPALIDAD DE RIO HONDO, ZACAPA", "color": "blue"},
    "Node11": {
        "label": "MUNICIPALIDAD DE SAN FRANCISCO EL ALTO, TOTONICAPAN",
        "color": "blue",
    },
    "Node12": {
        "label": "MUNICIPALIDAD DE SAN JOSE LA ARADA, CHIQUIMULA",
        "color": "blue",
    },
    "Node13": {
        "label": "MUNICIPALIDAD DE SAN MARTIN SACATEPEQUEZ, QUETZALTENANGO",
        "color": "blue",
    },
    "Node14": {
        "label": "MUNICIPALIDAD DE SAN PEDRO CARCHA, ALTA VERAPAZ",
        "color": "blue",
    },
    "Node15": {
        "label": "MUNICIPALIDAD DE SANTA CATARINA IXTAHUACAN, SOLOLA",
        "color": "blue",
    },
    "Node16": {
        "label": "MUNICIPALIDAD DE SANTA CRUZ DEL QUICHE, QUICHE",
        "color": "blue",
    },
    "Node17": {
        "label": "MUNICIPALIDAD DE SANTA LUCIA COTZUMALGUAPA, ESCUINTLA",
        "color": "blue",
    },
    "Node18": {
        "label": "MUNICIPALIDAD DE SANTA MARIA IXHUATAN, SANTA ROSA",
        "color": "blue",
    },
    "Node19": {"label": "MUNICIPALIDAD DE SAYAXCHE, PETEN", "color": "blue"},
    "Node20": {"label": "MUNICIPALIDAD DE TOTONICAPAN, TOTONICAPAN", "color": "blue"},
    "Node21": {"label": "8", "color": "green"},
    "Node22": {"label": "296", "color": "green"},
    "Node23": {"label": "331", "color": "green"},
    "Node24": {"label": "354", "color": "green"},
    "Node25": {"label": "411", "color": "green"},
    "Node26": {"label": "437", "color": "green"},
    "Node27": {"label": "459", "color": "green"},
    "Node28": {"label": "468", "color": "green"},
    "Node29": {"label": "481", "color": "green"},
    "Node30": {"label": "487", "color": "green"},
    "Node31": {"label": "565", "color": "green"},
    "Node32": {"label": "582", "color": "green"},
    "Node33": {"label": "595", "color": "green"},
    "Node34": {"label": "789", "color": "green"},
    "Node35": {"label": "839", "color": "green"},
    "Node36": {"label": "921", "color": "green"},
    "Node37": {"label": "979", "color": "green"},
    "Node38": {"label": "1045", "color": "green"},
    "Node39": {"label": "1132", "color": "green"},
    "Node40": {"label": "1218", "color": "green"},
    "Node41": {"label": "1351", "color": "green"},
    "Node42": {"label": "1582", "color": "green"},
    "Node43": {"label": "2023", "color": "green"},
}


nx.set_node_attributes(G, node_metadata)


nx.write_gexf(G, "network.gexf")


G.nodes["Node1"]





top_edges = x_cg.isel(edges=non_zeros).edges.data[idx]
top_gov = np.stack([te.split("-")[0] for te in top_edges]).astype(int)


c, count = np.unique(top_gov, return_counts=True)


np.unique(
    contracts.loc[
        contracts.ID_local_government.isin(top_gov)
    ].Name_local_government.values
)





def aggregate_outer(data):

    n_nodes = data.shape[0]

    out = jnp.zeros((n_nodes, n_nodes), dtype=np.float32)

    def _outer(carry, x):
        carry = carry + jnp.outer(x, x)
        return carry, None

    carry, _ = jax.lax.scan(_outer, out, data.T)

    carry = np.array(carry)
    np.fill_diagonal(carry, 0)

    return carry


MC = np.array(aggregate_outer(x_cg.data))


MC = xr.DataArray(
    MC, dims=("sources", "targets"), coords=(x_cg.edges.data, x_cg.edges.data)
)





plt.figure(figsize=(4, 4))
plt.imshow(MC, aspect="auto", cmap="hot_r", origin="lower", vmax=0.1)
plt.colorbar()


plt.figure(figsize=(4, 6))
ax = plt.subplot(111)
n, c = np.histogram(MC.sum(axis=1), 600, density=True)
plt.loglog(c[1:], n, "o")
plt.ylabel("P(degree)")
plt.xlabel("degree")
[ax.spines[key].set_visible(False) for key in ["top", "right"]]
plt.savefig("figures/MC_degree_dist.pdf")


roi_st = np.stack([MC.sources.data[i].split("-") for i in range(MC.shape[0])]).astype(
    int
)

idx2name = dict(
    zip(contracts.ID_local_government.values, contracts.Name_local_government.values)
)

roi_s_name = np.stack(
    [f"{idx2name[ roi_st[:, 0][i]]}" for i in range(roi_st[:, 0].shape[0])]
)





n_nodes = MC.shape[0]

SC1 = np.zeros(MC.shape, dtype=int)

for i in range(n_nodes):
    for j in range(i + 1, n_nodes):
        if roi_st[i, 1] == roi_st[j, 1]:
            SC1[i, j] = SC1[j, i] = 1


n_nodes = MC.shape[0]

SC2 = np.zeros(MC.shape, dtype=int)

for i in range(n_nodes):
    for j in range(i + 1, n_nodes):
        if roi_st[i, 0] == roi_st[j, 0]:
            SC2[i, j] = SC2[j, i] = 1


raster = x.sel(edges=MC.sources)


N, T = raster.shape





tt = np.arange(raster.shape[1])
isi = []
for i in tqdm(range(raster.shape[0])):
    isi += [np.diff(tt[raster.data[i] > 0]).mean()]
isi = np.array(isi)

isi[np.isnan(isi)] = T


import numba as nb


def KC_model(A, n_states, T, sigma, p, verbose=False):

    N = len(A)
    K = A.sum(1).mean()
    pmax = 2 * sigma / K
    W = A * np.random.uniform(0, 1, size=A.shape)
    W = pmax * (W + W.T) / 2
    trans = 1000

    states = np.random.randint(
        0, n_states.max() + 1, size=(N, T + trans), dtype=np.int32
    )

    @nb.njit
    def _for_node(states, n_states, i, t):
        if states[i, t] == 0:
            dice_A = np.random.uniform(0, 1) < p
            states[i, t + 1] = dice_A
            return
        elif states[i, t] == 1:
            dice_B = np.random.uniform(0, 1, size=N) < W[i]
            dice_B[i] = False
            states[dice_B, t + 1] = np.maximum(1, states[dice_B, t])
        states[i, t + 1] = (states[i, t] + 1) % n_states[i]
        return

    @nb.njit
    def _for_time(states, n_states, t):
        for n in range(N):
            _for_node(states, n_states, n, t)

    __iter = range(T + trans)
    for t in tqdm(__iter) if verbose else __iter:
        _for_time(states, n_states, t)

    return states[:, trans:]


A = SC2.astype(int)


n, c = np.histogram(isi, 30)
n = n / n.sum()

n1, c1 = np.histogram(raster.mean("dates").data, 100)
n1 = n1 / n1.sum()

n_states = np.random.choice(c[1:], p=n, size=N, replace=True).astype(int)


sigmas = np.linspace(0.01, 5, 30)


def return_mean_rate(A, n_states, T, sigma, p_drive):
    return (KC_model(A, n_states, T, sigma, p_drive, verbose=False) == 1).sum(0).mean()


mean_rate = []
for i in range(20):
    # Parallelize the function call using joblib
    mean_rate.append(
        Parallel(n_jobs=30, verbose=True)(
            delayed(return_mean_rate)(A, n_states, T, sigma, 1e-5) for sigma in sigmas
        )
    )


mean_rate = confidence_interval(np.stack(mean_rate), axis=0).squeeze()


plt.figure(figsize=(4, 2), dpi=150)
ax = plt.subplot(111)

plt.plot(sigmas, np.median(mean_rate, 0), "o-", ms=5)
plt.fill_between(sigmas, mean_rate[0], mean_rate[1], alpha=.3)

plt.vlines(3, 0.02, 1.3, "r", "--")
plt.ylim(0.02, 1.3)
plt.xlabel(r"$\sigma$", fontsize=12)
plt.ylabel(r"$\langle\rho \rangle$", fontsize=12)
[ax.spines[key].set_visible(False) for key in ["top", "right"]];
plt.savefig("figures/contract_desity_sigma.pdf")


n, c = np.histogram(isi, 30)
n = n / n.sum()

n1, c1 = np.histogram(raster.mean("dates").data, 100)
n1 = n1 / n1.sum()


plt.figure(figsize=(4, 2))
ax = plt.subplot(111)
sns.histplot(x=isi, bins=20, ax=ax)
[ax.spines[key].set_visible(False) for key in ["top", "right"]]
plt.xlabel("Inter-contract interval (ICI)")
plt.savefig("figures/ICI_dist.pdf")


plt.figure(figsize=(4, 2))
ax = plt.subplot(111)
sns.histplot(x=raster.mean("dates").data, bins=15, ax=ax)

[ax.spines[key].set_visible(False) for key in ["top", "right"]]
plt.xlabel("Contract Rate (R)")
plt.savefig("figures/R_dist.pdf")


p_drive = 0.001  # np.random.choice(c1[1:], p=n1, size=N, replace=True)
raster_sub = KC_model(A, n_states, T, 0.1, p_drive, True) == 1
raster_crit = KC_model(A, n_states, T, 1, p_drive, True) == 1
raster_sup = KC_model(A, n_states, T, 3, p_drive, True) == 1


MC_sub = np.array(aggregate_outer(raster_sub))
np.fill_diagonal(MC_sub, 0)

MC_crit = np.array(aggregate_outer(raster_crit))
np.fill_diagonal(MC_crit, 0)

MC_sup = np.array(aggregate_outer(raster_sup))
np.fill_diagonal(MC_sup, 0)


import matplotlib.transforms as mtransforms

fig, axs = plt.subplot_mosaic(
    [["A", "A"], ["A", "A"], ["B", "B"]], layout="constrained", figsize=(8, 4), dpi=300
)

idx = np.random.choice(np.arange(x_cg.shape[0]), 2000, replace=False)

plt.sca(axs["A"])
plt.imshow(x_cg[idx], cmap="binary", vmax=0.1, aspect="auto", origin="lower")
[axs["A"].spines[key].set_visible(False) for key in ["top", "right"]]
plt.ylabel("contract ID")
plt.xticks([])

plt.sca(axs["B"])
x_cg.sum("edges").plot()
[axs["B"].spines[key].set_visible(False) for key in ["top", "right"]]
plt.xlim(-1, 2300)
plt.ylabel("#contracts")
plt.xlabel("Time")
plt.savefig("figures/raster_data.pdf")


import matplotlib.transforms as mtransforms

fig, axs = plt.subplot_mosaic(
    [["A", "A"], ["A", "A"], ["B", "B"]], layout="constrained", figsize=(8, 4), dpi=300
)

plt.sca(axs["A"])
times = np.arange(T)
plt.imshow(raster_sup[idx], cmap="binary", vmax=0.1, aspect="auto", origin="lower")
plt.xlim(-1, 2300)
plt.ylabel("contract ID")
plt.xticks([])
plt.xlim(200, T)

plt.sca(axs["B"])
plt.plot(times, raster_crit.sum(0))
[axs["B"].spines[key].set_visible(False) for key in ["top", "right"]]
plt.xlim(-1, 2300)
plt.ylabel("#contracts")
plt.xlabel("Time")
plt.xlim(200, T)

plt.savefig("figures/raster_simu.pdf")


plt.imshow(MC, aspect="auto", cmap="hot_r", origin="lower", vmax=0.1)
plt.xlabel("contracts")
plt.ylabel("contracts")
plt.title("contracts FC")
plt.colorbar()
plt.savefig("figures/contracts_FC_data.pdf")


plt.imshow(MC_sup, aspect="auto", cmap="hot_r", origin="lower", vmax=0.01)
plt.xlabel("contracts")
plt.ylabel("contracts")
plt.title("contracts FC")
plt.colorbar()
plt.savefig("figures/contracts_FC_sim.pdf")


plt.imshow(SC2, aspect="auto", cmap="binary", origin="lower", vmax=0.1)
plt.xlabel("contracts")
plt.ylabel("contracts")
plt.title("SC")
plt.colorbar()
plt.savefig("figures/contracts_SC_data.pdf")


plt.figure(figsize=(14, 4), dpi=300)

plt.subplot(1, 3, 1)
d = MC.sum(axis=1)
d = d / d.max()

n, c = np.histogram(d, 600, density=True)
plt.loglog(c[1:], n, "bo", label="FC")
plt.ylabel("P(degree)")
plt.xlabel("degree")


d = MC_sub.sum(axis=1)
d = d / d.max()

n, c = np.histogram(d, 600, density=True)
plt.loglog(c[1:], n, "go", label="Simulated FC")
plt.ylabel("P(degree)")
plt.xlabel("degree")
plt.title("sigma = .1")
plt.legend(frameon=False)

plt.subplot(1, 3, 2)
d = MC.sum(axis=1)
d = d / d.max()

n, c = np.histogram(d, 600, density=True)
plt.loglog(c[1:], n, "bo", label="FC")
plt.ylabel("P(degree)")
plt.xlabel("degree")


d = MC_crit.sum(axis=1)
d = d / d.max()

n, c = np.histogram(d, 600, density=True)
plt.loglog(c[1:], n, "go", label="Simulated FC")
plt.ylabel("P(degree)")
plt.xlabel("degree")
plt.title("sigma = 1")

plt.legend(frameon=False)

plt.subplot(1, 3, 3)
d = MC.sum(axis=1)
d = d / d.max()

n, c = np.histogram(d, 600, density=True)
plt.loglog(c[1:], n, "bo", label="FC")
plt.ylabel("P(degree)")
plt.xlabel("degree")


d = MC_sup.sum(axis=1)
d = d / d.max()

n, c = np.histogram(d, 600, density=True)
plt.loglog(c[1:], n, "go", label="Simulated FC")
plt.ylabel("P(degree)")
plt.xlabel("degree")
plt.title("sigma = 2")
plt.legend(frameon=False)
plt.tight_layout()

plt.savefig("figures/dists.pdf")


sigmas = np.linspace(0.01, 6, 20)
from sklearn.metrics import mean_squared_error


def return_mean_rate(A, n_states, T, sigma, p_drive):
    raster_sim = KC_model(A, n_states, T, sigma, p_drive, verbose=False) == 1
    return raster_sim


def compute_mse(MC_sim, MC):

    d = MC.sum(axis=1)
    d = d / d.max()

    n1, c1 = np.histogram(d, 600, density=True)

    d = MC_sim.sum(axis=1)
    d = d / d.max()

    n2, c2 = np.histogram(d, 600, density=True)

    return mean_squared_error(n2, n1)


rates = []
for i in range(20):
    # Parallelize the function call using joblib
    rates.append(
        Parallel(n_jobs=20, verbose=True)(
            delayed(return_mean_rate)(A, n_states, T, sigma, 0.001) for sigma in sigmas
        )
    )


rates = np.stack(rates)


MSE = np.zeros((20, len(sigmas)))

for i in tqdm(range(20)):
    for j in range(len(sigmas)):
        MC_sim = np.array(aggregate_outer(rates[i, j]))
        np.fill_diagonal(MC_sub, 0)
        MSE[i, j] = compute_mse(MC_sim, MC)


MSE = confidence_interval(MSE, axis=0).squeeze()


plt.figure(figsize=(4, 2), dpi=150)
ax = plt.subplot(111)
plt.plot(sigmas, np.median(MSE, 0), "o-", ms=5)
plt.fill_between(sigmas, MSE[0], MSE[1], alpha=.3)
plt.xlabel(r"$\sigma$", fontsize=12)
plt.ylabel("MSE(SIM., DATA)")
[ax.spines[key].set_visible(False) for key in ["top", "right"]];
plt.vlines(3, 0.02, 50, "r", "--")
plt.savefig("figures/MSE_sigma.pdf")


np.mean(isi), np.std(isi) / np.sqrt(len(isi))


rates.shape
